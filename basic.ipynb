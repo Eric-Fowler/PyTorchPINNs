{
 "cells": [
  {
   "cell_type": "code",
   "execution_count": 128,
   "metadata": {},
   "outputs": [],
   "source": [
    "import numpy as np\n",
    "# import plotly\n",
    "import matplotlib.pyplot as plt\n",
    "import torch\n",
    "import torch.nn as nn\n",
    "import torch.nn.functional as F"
   ]
  },
  {
   "cell_type": "code",
   "execution_count": 129,
   "metadata": {},
   "outputs": [
    {
     "name": "stdout",
     "output_type": "stream",
     "text": [
      "cuda\n"
     ]
    }
   ],
   "source": [
    "device = torch.device('cuda' if torch.cuda.is_available() else 'cpu')\n",
    "# device = 'cpu'\n",
    "print(device)"
   ]
  },
  {
   "cell_type": "code",
   "execution_count": 130,
   "metadata": {},
   "outputs": [
    {
     "name": "stdout",
     "output_type": "stream",
     "text": [
      "Net(\n",
      "  (fc1): Linear(in_features=1, out_features=20000, bias=True)\n",
      "  (fc2): Linear(in_features=20000, out_features=900, bias=True)\n",
      "  (fc3): Linear(in_features=900, out_features=1, bias=True)\n",
      ")\n"
     ]
    }
   ],
   "source": [
    "class Net(nn.Module):\n",
    "\n",
    "    def __init__(self):\n",
    "        super(Net, self).__init__()\n",
    "        self.fc1 = nn.Linear(1, 20000)  # 5*5 from image dimension\n",
    "        self.fc2 = nn.Linear(20000, 900)\n",
    "        self.fc3 = nn.Linear(900, 1)\n",
    "\n",
    "        self.optimizer = torch.optim.Adam(self.parameters(),lr=1e-4)\n",
    "\n",
    "    def forward(self, x):\n",
    "        x = F.tanh(self.fc1(x))\n",
    "        x = F.tanh(self.fc2(x))\n",
    "        x = self.fc3(x)\n",
    "        return x\n",
    "    \n",
    "    def loss_fn(self,predictions,targets):\n",
    "        return torch.mean((predictions-targets)**2)\n",
    "    \n",
    "    \n",
    "    def train(self,x,y,epochs):\n",
    "        for epoch in range(epochs):\n",
    "            predictions = self.forward(x)\n",
    "            loss = self.loss_fn(predictions,y)\n",
    "            loss.backward()\n",
    "            self.optimizer.step()\n",
    "            self.optimizer.zero_grad()\n",
    "            if epoch % 100 == 0:\n",
    "                print(loss.item())\n",
    "\n",
    "\n",
    "net = Net()\n",
    "net.to(device)\n",
    "print(net)"
   ]
  },
  {
   "cell_type": "code",
   "execution_count": 138,
   "metadata": {},
   "outputs": [
    {
     "name": "stdout",
     "output_type": "stream",
     "text": [
      "18041801\n"
     ]
    }
   ],
   "source": [
    "# pytorch_total_params = sum(p.numel() for p in net.parameters())\n",
    "pytorch_total_params = sum(p.numel() for p in net.parameters() if p.requires_grad)\n",
    "\n",
    "print(pytorch_total_params)"
   ]
  },
  {
   "cell_type": "code",
   "execution_count": 131,
   "metadata": {},
   "outputs": [],
   "source": [
    "x = np.linspace(0,1,endpoint=True,num=50)\n",
    "y = x**2\n",
    "\n",
    "xTensor = torch.tensor(x,dtype=torch.float32).reshape(-1,1)\n",
    "yTensor = torch.tensor(y,dtype=torch.float32).reshape(-1,1)\n",
    "xGPU = xTensor.to(device)\n",
    "yGPU = yTensor.to(device)"
   ]
  },
  {
   "cell_type": "code",
   "execution_count": 132,
   "metadata": {},
   "outputs": [
    {
     "name": "stdout",
     "output_type": "stream",
     "text": [
      "0.21425063908100128\n",
      "0.0036900972481817007\n",
      "0.0004353914991952479\n",
      "0.0002549172204453498\n",
      "0.00020780775230377913\n",
      "0.00017193630628753453\n",
      "0.00014007017307449132\n",
      "0.00011082133278250694\n",
      "8.479110692860559e-05\n",
      "6.303749250946566e-05\n",
      "4.6019311412237585e-05\n",
      "3.340682451380417e-05\n",
      "2.4431492420262657e-05\n",
      "1.8232534785056487e-05\n",
      "1.4046225260244682e-05\n",
      "1.1266560250078328e-05\n"
     ]
    }
   ],
   "source": [
    "epochs = int(1600)\n",
    "net.train(xGPU,yGPU,epochs)"
   ]
  }
 ],
 "metadata": {
  "kernelspec": {
   "display_name": "Python 3",
   "language": "python",
   "name": "python3"
  },
  "language_info": {
   "codemirror_mode": {
    "name": "ipython",
    "version": 3
   },
   "file_extension": ".py",
   "mimetype": "text/x-python",
   "name": "python",
   "nbconvert_exporter": "python",
   "pygments_lexer": "ipython3",
   "version": "3.11.3"
  },
  "orig_nbformat": 4
 },
 "nbformat": 4,
 "nbformat_minor": 2
}
